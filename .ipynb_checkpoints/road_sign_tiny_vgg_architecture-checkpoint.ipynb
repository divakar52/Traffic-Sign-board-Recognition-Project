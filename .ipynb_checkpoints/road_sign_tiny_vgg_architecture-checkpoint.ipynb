{
 "cells": [
  {
   "cell_type": "code",
   "execution_count": 1,
   "id": "7866de25",
   "metadata": {
    "colab": {
     "base_uri": "https://localhost:8080/",
     "height": 413
    },
    "execution": {
     "iopub.execute_input": "2023-03-14T15:18:31.503532Z",
     "iopub.status.busy": "2023-03-14T15:18:31.503115Z",
     "iopub.status.idle": "2023-03-14T15:18:40.526827Z",
     "shell.execute_reply": "2023-03-14T15:18:40.525677Z"
    },
    "id": "7866de25",
    "outputId": "41c38ae0-c256-4c9a-c9a4-b326d4834422",
    "papermill": {
     "duration": 9.035911,
     "end_time": "2023-03-14T15:18:40.529846",
     "exception": false,
     "start_time": "2023-03-14T15:18:31.493935",
     "status": "completed"
    },
    "tags": []
   },
   "outputs": [],
   "source": [
    "# import libraries\n",
    "import pandas as pd\n",
    "import numpy as np\n",
    "import matplotlib.pyplot as plt\n",
    "import random\n",
    "\n",
    "# Tensorflow\n",
    "import tensorflow as tf\n",
    "from keras.utils import load_img, img_to_array, to_categorical\n",
    "from keras.layers import Conv2D, MaxPool2D, Flatten, Dense, Dropout\n",
    "from keras.optimizers import Adam\n",
    "from keras import Sequential\n",
    "\n",
    "\n",
    "# import Dataset\n",
    "train_df = pd.read_csv('input/Train.csv')\n",
    "test_df = pd.read_csv('input/Test.csv')"
   ]
  },
  {
   "cell_type": "markdown",
   "id": "c2c6692a",
   "metadata": {
    "id": "c2c6692a",
    "papermill": {
     "duration": 0.006116,
     "end_time": "2023-03-14T15:18:40.542721",
     "exception": false,
     "start_time": "2023-03-14T15:18:40.536605",
     "status": "completed"
    },
    "tags": []
   },
   "source": [
    "# Exploring the dataset"
   ]
  },
  {
   "cell_type": "code",
   "execution_count": 2,
   "id": "fed5ce31",
   "metadata": {
    "execution": {
     "iopub.execute_input": "2023-03-14T15:18:40.558218Z",
     "iopub.status.busy": "2023-03-14T15:18:40.557436Z",
     "iopub.status.idle": "2023-03-14T15:18:40.585893Z",
     "shell.execute_reply": "2023-03-14T15:18:40.584756Z"
    },
    "id": "fed5ce31",
    "outputId": "c7761bee-ae57-4bd9-dcd1-35d114129b5c",
    "papermill": {
     "duration": 0.040068,
     "end_time": "2023-03-14T15:18:40.589273",
     "exception": false,
     "start_time": "2023-03-14T15:18:40.549205",
     "status": "completed"
    },
    "tags": []
   },
   "outputs": [
    {
     "data": {
      "text/html": [
       "<div>\n",
       "<style scoped>\n",
       "    .dataframe tbody tr th:only-of-type {\n",
       "        vertical-align: middle;\n",
       "    }\n",
       "\n",
       "    .dataframe tbody tr th {\n",
       "        vertical-align: top;\n",
       "    }\n",
       "\n",
       "    .dataframe thead th {\n",
       "        text-align: right;\n",
       "    }\n",
       "</style>\n",
       "<table border=\"1\" class=\"dataframe\">\n",
       "  <thead>\n",
       "    <tr style=\"text-align: right;\">\n",
       "      <th></th>\n",
       "      <th>Width</th>\n",
       "      <th>Height</th>\n",
       "      <th>Roi.X1</th>\n",
       "      <th>Roi.Y1</th>\n",
       "      <th>Roi.X2</th>\n",
       "      <th>Roi.Y2</th>\n",
       "      <th>ClassId</th>\n",
       "      <th>Path</th>\n",
       "    </tr>\n",
       "  </thead>\n",
       "  <tbody>\n",
       "    <tr>\n",
       "      <th>0</th>\n",
       "      <td>27</td>\n",
       "      <td>26</td>\n",
       "      <td>5</td>\n",
       "      <td>5</td>\n",
       "      <td>22</td>\n",
       "      <td>20</td>\n",
       "      <td>20</td>\n",
       "      <td>Train/20/00020_00000_00000.png</td>\n",
       "    </tr>\n",
       "    <tr>\n",
       "      <th>1</th>\n",
       "      <td>28</td>\n",
       "      <td>27</td>\n",
       "      <td>5</td>\n",
       "      <td>6</td>\n",
       "      <td>23</td>\n",
       "      <td>22</td>\n",
       "      <td>20</td>\n",
       "      <td>Train/20/00020_00000_00001.png</td>\n",
       "    </tr>\n",
       "    <tr>\n",
       "      <th>2</th>\n",
       "      <td>29</td>\n",
       "      <td>26</td>\n",
       "      <td>6</td>\n",
       "      <td>5</td>\n",
       "      <td>24</td>\n",
       "      <td>21</td>\n",
       "      <td>20</td>\n",
       "      <td>Train/20/00020_00000_00002.png</td>\n",
       "    </tr>\n",
       "    <tr>\n",
       "      <th>3</th>\n",
       "      <td>28</td>\n",
       "      <td>27</td>\n",
       "      <td>5</td>\n",
       "      <td>6</td>\n",
       "      <td>23</td>\n",
       "      <td>22</td>\n",
       "      <td>20</td>\n",
       "      <td>Train/20/00020_00000_00003.png</td>\n",
       "    </tr>\n",
       "    <tr>\n",
       "      <th>4</th>\n",
       "      <td>28</td>\n",
       "      <td>26</td>\n",
       "      <td>5</td>\n",
       "      <td>5</td>\n",
       "      <td>23</td>\n",
       "      <td>21</td>\n",
       "      <td>20</td>\n",
       "      <td>Train/20/00020_00000_00004.png</td>\n",
       "    </tr>\n",
       "  </tbody>\n",
       "</table>\n",
       "</div>"
      ],
      "text/plain": [
       "   Width  Height  Roi.X1  Roi.Y1  Roi.X2  Roi.Y2  ClassId  \\\n",
       "0     27      26       5       5      22      20       20   \n",
       "1     28      27       5       6      23      22       20   \n",
       "2     29      26       6       5      24      21       20   \n",
       "3     28      27       5       6      23      22       20   \n",
       "4     28      26       5       5      23      21       20   \n",
       "\n",
       "                             Path  \n",
       "0  Train/20/00020_00000_00000.png  \n",
       "1  Train/20/00020_00000_00001.png  \n",
       "2  Train/20/00020_00000_00002.png  \n",
       "3  Train/20/00020_00000_00003.png  \n",
       "4  Train/20/00020_00000_00004.png  "
      ]
     },
     "execution_count": 2,
     "metadata": {},
     "output_type": "execute_result"
    }
   ],
   "source": [
    "train_df.head()"
   ]
  },
  {
   "cell_type": "code",
   "execution_count": 3,
   "id": "ccfc6b7e",
   "metadata": {
    "execution": {
     "iopub.execute_input": "2023-03-14T15:18:40.604781Z",
     "iopub.status.busy": "2023-03-14T15:18:40.604040Z",
     "iopub.status.idle": "2023-03-14T15:18:40.616782Z",
     "shell.execute_reply": "2023-03-14T15:18:40.615368Z"
    },
    "id": "ccfc6b7e",
    "outputId": "4bd36fba-0447-49ac-bb70-33aa7669b43d",
    "papermill": {
     "duration": 0.023217,
     "end_time": "2023-03-14T15:18:40.619354",
     "exception": false,
     "start_time": "2023-03-14T15:18:40.596137",
     "status": "completed"
    },
    "tags": []
   },
   "outputs": [
    {
     "data": {
      "text/html": [
       "<div>\n",
       "<style scoped>\n",
       "    .dataframe tbody tr th:only-of-type {\n",
       "        vertical-align: middle;\n",
       "    }\n",
       "\n",
       "    .dataframe tbody tr th {\n",
       "        vertical-align: top;\n",
       "    }\n",
       "\n",
       "    .dataframe thead th {\n",
       "        text-align: right;\n",
       "    }\n",
       "</style>\n",
       "<table border=\"1\" class=\"dataframe\">\n",
       "  <thead>\n",
       "    <tr style=\"text-align: right;\">\n",
       "      <th></th>\n",
       "      <th>Width</th>\n",
       "      <th>Height</th>\n",
       "      <th>Roi.X1</th>\n",
       "      <th>Roi.Y1</th>\n",
       "      <th>Roi.X2</th>\n",
       "      <th>Roi.Y2</th>\n",
       "      <th>ClassId</th>\n",
       "      <th>Path</th>\n",
       "    </tr>\n",
       "  </thead>\n",
       "  <tbody>\n",
       "    <tr>\n",
       "      <th>0</th>\n",
       "      <td>53</td>\n",
       "      <td>54</td>\n",
       "      <td>6</td>\n",
       "      <td>5</td>\n",
       "      <td>48</td>\n",
       "      <td>49</td>\n",
       "      <td>16</td>\n",
       "      <td>Test/00000.png</td>\n",
       "    </tr>\n",
       "    <tr>\n",
       "      <th>1</th>\n",
       "      <td>42</td>\n",
       "      <td>45</td>\n",
       "      <td>5</td>\n",
       "      <td>5</td>\n",
       "      <td>36</td>\n",
       "      <td>40</td>\n",
       "      <td>1</td>\n",
       "      <td>Test/00001.png</td>\n",
       "    </tr>\n",
       "    <tr>\n",
       "      <th>2</th>\n",
       "      <td>48</td>\n",
       "      <td>52</td>\n",
       "      <td>6</td>\n",
       "      <td>6</td>\n",
       "      <td>43</td>\n",
       "      <td>47</td>\n",
       "      <td>38</td>\n",
       "      <td>Test/00002.png</td>\n",
       "    </tr>\n",
       "    <tr>\n",
       "      <th>3</th>\n",
       "      <td>27</td>\n",
       "      <td>29</td>\n",
       "      <td>5</td>\n",
       "      <td>5</td>\n",
       "      <td>22</td>\n",
       "      <td>24</td>\n",
       "      <td>33</td>\n",
       "      <td>Test/00003.png</td>\n",
       "    </tr>\n",
       "    <tr>\n",
       "      <th>4</th>\n",
       "      <td>60</td>\n",
       "      <td>57</td>\n",
       "      <td>5</td>\n",
       "      <td>5</td>\n",
       "      <td>55</td>\n",
       "      <td>52</td>\n",
       "      <td>11</td>\n",
       "      <td>Test/00004.png</td>\n",
       "    </tr>\n",
       "  </tbody>\n",
       "</table>\n",
       "</div>"
      ],
      "text/plain": [
       "   Width  Height  Roi.X1  Roi.Y1  Roi.X2  Roi.Y2  ClassId            Path\n",
       "0     53      54       6       5      48      49       16  Test/00000.png\n",
       "1     42      45       5       5      36      40        1  Test/00001.png\n",
       "2     48      52       6       6      43      47       38  Test/00002.png\n",
       "3     27      29       5       5      22      24       33  Test/00003.png\n",
       "4     60      57       5       5      55      52       11  Test/00004.png"
      ]
     },
     "execution_count": 3,
     "metadata": {},
     "output_type": "execute_result"
    }
   ],
   "source": [
    "test_df.head()"
   ]
  },
  {
   "cell_type": "code",
   "execution_count": 4,
   "id": "2cffd725",
   "metadata": {
    "execution": {
     "iopub.execute_input": "2023-03-14T15:18:40.635390Z",
     "iopub.status.busy": "2023-03-14T15:18:40.634595Z",
     "iopub.status.idle": "2023-03-14T15:18:40.675668Z",
     "shell.execute_reply": "2023-03-14T15:18:40.673555Z"
    },
    "id": "2cffd725",
    "outputId": "cca234af-5073-470a-c63f-7b62b83364df",
    "papermill": {
     "duration": 0.052426,
     "end_time": "2023-03-14T15:18:40.678647",
     "exception": false,
     "start_time": "2023-03-14T15:18:40.626221",
     "status": "completed"
    },
    "tags": []
   },
   "outputs": [
    {
     "name": "stdout",
     "output_type": "stream",
     "text": [
      "<class 'pandas.core.frame.DataFrame'>\n",
      "RangeIndex: 39209 entries, 0 to 39208\n",
      "Data columns (total 8 columns):\n",
      " #   Column   Non-Null Count  Dtype \n",
      "---  ------   --------------  ----- \n",
      " 0   Width    39209 non-null  int64 \n",
      " 1   Height   39209 non-null  int64 \n",
      " 2   Roi.X1   39209 non-null  int64 \n",
      " 3   Roi.Y1   39209 non-null  int64 \n",
      " 4   Roi.X2   39209 non-null  int64 \n",
      " 5   Roi.Y2   39209 non-null  int64 \n",
      " 6   ClassId  39209 non-null  int64 \n",
      " 7   Path     39209 non-null  object\n",
      "dtypes: int64(7), object(1)\n",
      "memory usage: 2.4+ MB\n",
      "\n",
      "\n",
      "<class 'pandas.core.frame.DataFrame'>\n",
      "RangeIndex: 12630 entries, 0 to 12629\n",
      "Data columns (total 8 columns):\n",
      " #   Column   Non-Null Count  Dtype \n",
      "---  ------   --------------  ----- \n",
      " 0   Width    12630 non-null  int64 \n",
      " 1   Height   12630 non-null  int64 \n",
      " 2   Roi.X1   12630 non-null  int64 \n",
      " 3   Roi.Y1   12630 non-null  int64 \n",
      " 4   Roi.X2   12630 non-null  int64 \n",
      " 5   Roi.Y2   12630 non-null  int64 \n",
      " 6   ClassId  12630 non-null  int64 \n",
      " 7   Path     12630 non-null  object\n",
      "dtypes: int64(7), object(1)\n",
      "memory usage: 789.5+ KB\n"
     ]
    },
    {
     "data": {
      "text/plain": [
       "(None, None, None)"
      ]
     },
     "execution_count": 4,
     "metadata": {},
     "output_type": "execute_result"
    }
   ],
   "source": [
    "train_df.info(), print('\\n'), test_df.info()"
   ]
  },
  {
   "cell_type": "markdown",
   "id": "c37e7072",
   "metadata": {
    "id": "c37e7072",
    "papermill": {
     "duration": 0.006724,
     "end_time": "2023-03-14T15:18:40.692413",
     "exception": false,
     "start_time": "2023-03-14T15:18:40.685689",
     "status": "completed"
    },
    "tags": []
   },
   "source": [
    "## Creating the 43 class names"
   ]
  },
  {
   "cell_type": "code",
   "execution_count": 7,
   "id": "b75747ad",
   "metadata": {},
   "outputs": [],
   "source": [
    "labels = {0:'Speed limit(20km/h)',\n",
    "          1:'Speed limit(30km/h)',\n",
    "          2:'Speed limit(50km/h)',\n",
    "          3:'Speed limit(60km/h)',\n",
    "          4:'Speed limit(70km/h)',\n",
    "          5:'Speed limit(80km/h)',\n",
    "          6:'End of speed limit(80km/h)',\n",
    "          7:'Speed limit(100km/h)',\n",
    "          8:'Speed limit(120km/h)',\n",
    "          9:'No passing',\n",
    "          10:'No passing for vehicles over 3.5 metric tons',\n",
    "          11:'Right-of-way at the next intersection',\n",
    "          12:'Priority road',\n",
    "          13:'Yield',\n",
    "          14:'Stop',\n",
    "          15:'No vehicles',\n",
    "          16:'Vehicles over 3.5 metric tons prohibted',\n",
    "          17:'No entry',\n",
    "          18:'General caution',\n",
    "          19:'Dangerous curve to the left',\n",
    "          20:'Dangerous curve to the right',\n",
    "          21:'Double curve',\n",
    "          22:'Bumpy road',\n",
    "          23:'Slippery road',\n",
    "          24:'Road narrows on the right',\n",
    "          25:'Road work',\n",
    "          26:'Traffic signals',\n",
    "          27:'Pedestrians',\n",
    "          28:'Children crossing',\n",
    "          29:'Bicycles crossing',\n",
    "          30:'Beware of ice/snow',\n",
    "          31:'Wild animals crossing',\n",
    "          32:'End of all speed and passing limits',\n",
    "          33:'Turn right ahead',\n",
    "          34:'Turn left ahead',\n",
    "          35:'Ahead only',\n",
    "          36:'Go straight or right',\n",
    "          37:'Go straight or left',\n",
    "          38:'Keep right',\n",
    "          39:'Keep left',\n",
    "          40:'Roundabout mandatory',\n",
    "          41:'End of no passing',\n",
    "          42:'End of no passing by vehicles over 3.5 metric tons'}"
   ]
  },
  {
   "cell_type": "code",
   "execution_count": 8,
   "id": "16ca5229",
   "metadata": {
    "execution": {
     "iopub.execute_input": "2023-03-14T15:18:40.734793Z",
     "iopub.status.busy": "2023-03-14T15:18:40.734371Z",
     "iopub.status.idle": "2023-03-14T15:18:40.740714Z",
     "shell.execute_reply": "2023-03-14T15:18:40.739817Z"
    },
    "id": "16ca5229",
    "outputId": "978962a5-11d4-4857-9d76-da72e4e3e068",
    "papermill": {
     "duration": 0.016927,
     "end_time": "2023-03-14T15:18:40.742952",
     "exception": false,
     "start_time": "2023-03-14T15:18:40.726025",
     "status": "completed"
    },
    "tags": []
   },
   "outputs": [
    {
     "data": {
      "text/plain": [
       "dict_values(['Speed limit(20km/h)', 'Speed limit(30km/h)', 'Speed limit(50km/h)', 'Speed limit(60km/h)', 'Speed limit(70km/h)', 'Speed limit(80km/h)', 'End of speed limit(80km/h)', 'Speed limit(100km/h)', 'Speed limit(120km/h)', 'No passing', 'No passing for vehicles over 3.5 metric tons', 'Right-of-way at the next intersection', 'Priority road', 'Yield', 'Stop', 'No vehicles', 'Vehicles over 3.5 metric tons prohibted', 'No entry', 'General caution', 'Dangerous curve to the left', 'Dangerous curve to the right', 'Double curve', 'Bumpy road', 'Slippery road', 'Road narrows on the right', 'Road work', 'Traffic signals', 'Pedestrians', 'Children crossing', 'Bicycles crossing', 'Beware of ice/snow', 'Wild animals crossing', 'End of all speed and passing limits', 'Turn right ahead', 'Turn left ahead', 'Ahead only', 'Go straight or right', 'Go straight or left', 'Keep right', 'Keep left', 'Roundabout mandatory', 'End of no passing', 'End of no passing by vehicles over 3.5 metric tons'])"
      ]
     },
     "execution_count": 8,
     "metadata": {},
     "output_type": "execute_result"
    }
   ],
   "source": [
    "labels.values()"
   ]
  },
  {
   "cell_type": "markdown",
   "id": "a86e7978",
   "metadata": {
    "id": "a86e7978",
    "papermill": {
     "duration": 0.006763,
     "end_time": "2023-03-14T15:18:40.756940",
     "exception": false,
     "start_time": "2023-03-14T15:18:40.750177",
     "status": "completed"
    },
    "tags": []
   },
   "source": [
    "## Modifying the train & test data"
   ]
  },
  {
   "cell_type": "code",
   "execution_count": 9,
   "id": "a37760b6",
   "metadata": {
    "execution": {
     "iopub.execute_input": "2023-03-14T15:18:40.773039Z",
     "iopub.status.busy": "2023-03-14T15:18:40.772309Z",
     "iopub.status.idle": "2023-03-14T15:18:40.781396Z",
     "shell.execute_reply": "2023-03-14T15:18:40.780247Z"
    },
    "id": "a37760b6",
    "papermill": {
     "duration": 0.019948,
     "end_time": "2023-03-14T15:18:40.783820",
     "exception": false,
     "start_time": "2023-03-14T15:18:40.763872",
     "status": "completed"
    },
    "tags": []
   },
   "outputs": [],
   "source": [
    "# getting only the Path and ClassId \n",
    "train_df = train_df[['ClassId', 'Path']]\n",
    "test_df = test_df[['ClassId', 'Path']]"
   ]
  },
  {
   "cell_type": "code",
   "execution_count": 10,
   "id": "1b0b63c9",
   "metadata": {
    "execution": {
     "iopub.execute_input": "2023-03-14T15:18:40.800706Z",
     "iopub.status.busy": "2023-03-14T15:18:40.800272Z",
     "iopub.status.idle": "2023-03-14T15:18:40.826042Z",
     "shell.execute_reply": "2023-03-14T15:18:40.824779Z"
    },
    "id": "1b0b63c9",
    "papermill": {
     "duration": 0.037932,
     "end_time": "2023-03-14T15:18:40.828838",
     "exception": false,
     "start_time": "2023-03-14T15:18:40.790906",
     "status": "completed"
    },
    "tags": []
   },
   "outputs": [],
   "source": [
    "# add the complete path\n",
    "train_df['Path'] = train_df['Path'].apply(lambda x: 'input/' + x)\n",
    "test_df['Path'] = test_df['Path'].apply(lambda x: 'input/' + x)"
   ]
  },
  {
   "cell_type": "code",
   "execution_count": 11,
   "id": "d5caeed8",
   "metadata": {
    "execution": {
     "iopub.execute_input": "2023-03-14T15:18:40.845801Z",
     "iopub.status.busy": "2023-03-14T15:18:40.845391Z",
     "iopub.status.idle": "2023-03-14T15:18:40.851484Z",
     "shell.execute_reply": "2023-03-14T15:18:40.850341Z"
    },
    "id": "d5caeed8",
    "outputId": "118b4ce0-07a0-4ba3-b943-7307e0a510cf",
    "papermill": {
     "duration": 0.017419,
     "end_time": "2023-03-14T15:18:40.853760",
     "exception": false,
     "start_time": "2023-03-14T15:18:40.836341",
     "status": "completed"
    },
    "tags": []
   },
   "outputs": [
    {
     "name": "stdout",
     "output_type": "stream",
     "text": [
      "The new path of the first image in \"train_df\" : input/Train/20/00020_00000_00000.png\n",
      "The new path of the first image in \"test_df\" : input/Test/00000.png\n"
     ]
    }
   ],
   "source": [
    "# Example of the new path in the data\n",
    "print(f'The new path of the first image in \"train_df\" : {train_df.Path[0]}')\n",
    "print(f'The new path of the first image in \"test_df\" : {test_df.Path[0]}')"
   ]
  },
  {
   "cell_type": "markdown",
   "id": "85fe7f0c",
   "metadata": {
    "id": "85fe7f0c",
    "papermill": {
     "duration": 0.00712,
     "end_time": "2023-03-14T15:18:40.868100",
     "exception": false,
     "start_time": "2023-03-14T15:18:40.860980",
     "status": "completed"
    },
    "tags": []
   },
   "source": [
    "## Plot some random images"
   ]
  },
  {
   "cell_type": "code",
   "execution_count": 12,
   "id": "a6470714",
   "metadata": {
    "execution": {
     "iopub.execute_input": "2023-03-14T15:18:40.884613Z",
     "iopub.status.busy": "2023-03-14T15:18:40.883877Z",
     "iopub.status.idle": "2023-03-14T15:18:41.015429Z",
     "shell.execute_reply": "2023-03-14T15:18:41.013266Z"
    },
    "id": "a6470714",
    "outputId": "e435924b-83d7-45eb-9952-83e3bf8d6d4c",
    "papermill": {
     "duration": 0.144445,
     "end_time": "2023-03-14T15:18:41.019803",
     "exception": false,
     "start_time": "2023-03-14T15:18:40.875358",
     "status": "completed"
    },
    "tags": []
   },
   "outputs": [
    {
     "name": "stdout",
     "output_type": "stream",
     "text": [
      "image shape : (60, 60, 3)\n"
     ]
    },
    {
     "data": {
      "image/png": "[encoded data removed]",
      "text/plain": [
       "<Figure size 800x400 with 1 Axes>"
      ]
     },
     "metadata": {},
     "output_type": "display_data"
    }
   ],
   "source": [
    "# create a random number\n",
    "random_nbr = random.randint(1, len(train_df)) # or randint(1, train_df.shape[0]))\n",
    "\n",
    "# read the images randomly and plot'm\n",
    "img = plt.imread(train_df.Path[random_nbr]) # read the image from the path\n",
    "print(f'image shape : {img.shape}') # print the shape of the image\n",
    "fig, ax = plt.subplots(figsize=(8,4))\n",
    "\n",
    "ax.imshow(img)\n",
    "ax.set_title(labels[train_df.ClassId[random_nbr]])\n",
    "ax.axis('off')\n",
    "plt.show()"
   ]
  },
  {
   "cell_type": "markdown",
   "id": "2b10e148",
   "metadata": {
    "id": "2b10e148",
    "papermill": {
     "duration": 0.019105,
     "end_time": "2023-03-14T15:18:41.057729",
     "exception": false,
     "start_time": "2023-03-14T15:18:41.038624",
     "status": "completed"
    },
    "tags": []
   },
   "source": [
    "## Preprocessing the images"
   ]
  },
  {
   "cell_type": "code",
   "execution_count": null,
   "id": "77f4c114",
   "metadata": {
    "execution": {
     "iopub.execute_input": "2023-03-14T15:18:41.086203Z",
     "iopub.status.busy": "2023-03-14T15:18:41.085809Z",
     "iopub.status.idle": "2023-03-14T15:25:21.387756Z",
     "shell.execute_reply": "2023-03-14T15:25:21.386244Z"
    },
    "id": "77f4c114",
    "papermill": {
     "duration": 400.313825,
     "end_time": "2023-03-14T15:25:21.390928",
     "exception": false,
     "start_time": "2023-03-14T15:18:41.077103",
     "status": "completed"
    },
    "tags": []
   },
   "outputs": [],
   "source": [
    "# Split the data into training and validation sets\n",
    "train_data = train_df.sample(frac=0.8, random_state=0)\n",
    "valid_data = train_df.drop(train_df.index)\n",
    "\n",
    "\n",
    "# Preprocess the data\n",
    "IMG_SIZE = 32\n",
    "NUM_CLASSES = len(labels)\n",
    "\n",
    "def preprocess_data(df):\n",
    "    X = []\n",
    "    y = []\n",
    "    for index, row in df.iterrows():\n",
    "        img = load_img(row.Path, target_size=(IMG_SIZE, IMG_SIZE))\n",
    "        img_array = img_to_array(img) / 255.0\n",
    "        X.append(img_array)\n",
    "        y.append(to_categorical(row.ClassId, num_classes=NUM_CLASSES))\n",
    "    return np.array(X), np.array(y)\n",
    "\n",
    "X_train, y_train = preprocess_data(train_data)\n",
    "X_valid, y_valid = preprocess_data(valid_data)\n",
    "X_test, y_test = preprocess_data(test_df)"
   ]
  },
  {
   "cell_type": "code",
   "execution_count": null,
   "id": "3a049554",
   "metadata": {
    "execution": {
     "iopub.execute_input": "2023-03-14T15:25:21.408641Z",
     "iopub.status.busy": "2023-03-14T15:25:21.407961Z",
     "iopub.status.idle": "2023-03-14T15:25:21.414870Z",
     "shell.execute_reply": "2023-03-14T15:25:21.412817Z"
    },
    "id": "3a049554",
    "outputId": "e86bc287-7a59-4660-813f-d691517800b6",
    "papermill": {
     "duration": 0.019434,
     "end_time": "2023-03-14T15:25:21.418137",
     "exception": false,
     "start_time": "2023-03-14T15:25:21.398703",
     "status": "completed"
    },
    "tags": []
   },
   "outputs": [],
   "source": [
    "print(f'The shape of X_train : {X_train.shape}')\n",
    "print(f'The shape of X_test : {y_train.shape}')"
   ]
  },
  {
   "cell_type": "markdown",
   "id": "ac8620d7",
   "metadata": {
    "id": "ac8620d7",
    "papermill": {
     "duration": 0.007638,
     "end_time": "2023-03-14T15:25:21.434027",
     "exception": false,
     "start_time": "2023-03-14T15:25:21.426389",
     "status": "completed"
    },
    "tags": []
   },
   "source": [
    "# Building the model"
   ]
  },
  {
   "cell_type": "markdown",
   "id": "1c993e1d",
   "metadata": {
    "id": "1c993e1d",
    "papermill": {
     "duration": 0.007632,
     "end_time": "2023-03-14T15:25:21.449509",
     "exception": false,
     "start_time": "2023-03-14T15:25:21.441877",
     "status": "completed"
    },
    "tags": []
   },
   "source": [
    "## Model 1"
   ]
  },
  {
   "cell_type": "code",
   "execution_count": null,
   "id": "53cfd701",
   "metadata": {
    "execution": {
     "iopub.execute_input": "2023-03-14T15:25:21.467241Z",
     "iopub.status.busy": "2023-03-14T15:25:21.466796Z",
     "iopub.status.idle": "2023-03-14T15:25:21.785281Z",
     "shell.execute_reply": "2023-03-14T15:25:21.783955Z"
    },
    "id": "53cfd701",
    "papermill": {
     "duration": 0.33111,
     "end_time": "2023-03-14T15:25:21.788360",
     "exception": false,
     "start_time": "2023-03-14T15:25:21.457250",
     "status": "completed"
    },
    "tags": []
   },
   "outputs": [],
   "source": [
    "model = Sequential([\n",
    "    Conv2D(filters=32, kernel_size=3, activation='relu', input_shape=(IMG_SIZE, IMG_SIZE, 3)),\n",
    "    Conv2D(64, 3, activation='relu'),\n",
    "    MaxPool2D(2),\n",
    "    Conv2D(128, 3, activation='relu'),\n",
    "    Conv2D(64, 3, activation='relu'),\n",
    "    MaxPool2D(2),\n",
    "    Flatten(),\n",
    "    Dropout(0.5),\n",
    "    Dense(128, activation='relu'),\n",
    "    Dense(NUM_CLASSES, activation='softmax')\n",
    "])\n",
    "\n",
    "model.compile(loss='categorical_crossentropy',\n",
    "              optimizer=Adam(),\n",
    "              metrics=['accuracy'])"
   ]
  },
  {
   "cell_type": "code",
   "execution_count": null,
   "id": "f1e6fd06",
   "metadata": {
    "execution": {
     "iopub.execute_input": "2023-03-14T15:25:21.806572Z",
     "iopub.status.busy": "2023-03-14T15:25:21.805839Z",
     "iopub.status.idle": "2023-03-14T15:25:21.845023Z",
     "shell.execute_reply": "2023-03-14T15:25:21.843776Z"
    },
    "id": "f1e6fd06",
    "outputId": "22f04561-471e-4d35-eab4-bf95d08e9033",
    "papermill": {
     "duration": 0.060881,
     "end_time": "2023-03-14T15:25:21.857304",
     "exception": false,
     "start_time": "2023-03-14T15:25:21.796423",
     "status": "completed"
    },
    "tags": []
   },
   "outputs": [],
   "source": [
    "model.summary()"
   ]
  },
  {
   "cell_type": "markdown",
   "id": "df1bff28",
   "metadata": {
    "id": "df1bff28",
    "papermill": {
     "duration": 0.009699,
     "end_time": "2023-03-14T15:25:21.876616",
     "exception": false,
     "start_time": "2023-03-14T15:25:21.866917",
     "status": "completed"
    },
    "tags": []
   },
   "source": [
    "### Fit the model"
   ]
  },
  {
   "cell_type": "code",
   "execution_count": null,
   "id": "36833a86",
   "metadata": {
    "execution": {
     "iopub.execute_input": "2023-03-14T15:25:21.897680Z",
     "iopub.status.busy": "2023-03-14T15:25:21.897226Z",
     "iopub.status.idle": "2023-03-14T15:33:47.474121Z",
     "shell.execute_reply": "2023-03-14T15:33:47.473067Z"
    },
    "id": "36833a86",
    "outputId": "6aaddc31-4c59-461e-f6a4-31206e1b2eaa",
    "papermill": {
     "duration": 505.590619,
     "end_time": "2023-03-14T15:33:47.476891",
     "exception": false,
     "start_time": "2023-03-14T15:25:21.886272",
     "status": "completed"
    },
    "tags": []
   },
   "outputs": [],
   "source": [
    "# fit the model\n",
    "history = model.fit(X_train, \n",
    "                    y_train, \n",
    "                    epochs=5)"
   ]
  },
  {
   "cell_type": "code",
   "execution_count": null,
   "id": "f7e75c38",
   "metadata": {
    "id": "f7e75c38"
   },
   "outputs": [],
   "source": [
    "model.save('traffic_model.h5')"
   ]
  },
  {
   "cell_type": "code",
   "execution_count": null,
   "id": "3TPb0tstmINP",
   "metadata": {
    "colab": {
     "base_uri": "https://localhost:8080/"
    },
    "id": "3TPb0tstmINP",
    "outputId": "4190d367-a0b8-4e6a-f300-10c92d86d139"
   },
   "outputs": [],
   "source": [
    "pip install gradio"
   ]
  },
  {
   "cell_type": "code",
   "execution_count": null,
   "id": "01f20a21",
   "metadata": {
    "execution": {
     "iopub.execute_input": "2023-03-14T15:18:40.708690Z",
     "iopub.status.busy": "2023-03-14T15:18:40.707689Z",
     "iopub.status.idle": "2023-03-14T15:18:40.716541Z",
     "shell.execute_reply": "2023-03-14T15:18:40.715323Z"
    },
    "id": "01f20a21",
    "papermill": {
     "duration": 0.019672,
     "end_time": "2023-03-14T15:18:40.719078",
     "exception": false,
     "start_time": "2023-03-14T15:18:40.699406",
     "status": "completed"
    },
    "tags": []
   },
   "outputs": [],
   "source": [
    "# Creating labels \n",
    "labels = {0:'Speed limit(20km/h)',\n",
    "          1:'Speed limit(30km/h)',\n",
    "          2:'Speed limit(50km/h)',\n",
    "          3:'Speed limit(60km/h)',\n",
    "          4:'Speed limit(70km/h)',\n",
    "          5:'Speed limit(80km/h)',\n",
    "          6:'End of speed limit(80km/h)',\n",
    "          7:'Speed limit(100km/h)',\n",
    "          8:'Speed limit(120km/h)',\n",
    "          9:'No passing',\n",
    "          10:'No passing for vehicles over 3.5 metric tons',\n",
    "          11:'Right-of-way at the next intersection',\n",
    "          12:'Priority road',\n",
    "          13:'Yield',\n",
    "          14:'Stop',\n",
    "          15:'No vehicles',\n",
    "          16:'Vehicles over 3.5 metric tons prohibted',\n",
    "          17:'No entry',\n",
    "          18:'General caution',\n",
    "          19:'Dangerous curve to the left',\n",
    "          20:'Dangerous curve to the right',\n",
    "          21:'Double curve',\n",
    "          22:'Bumpy road',\n",
    "          23:'Slippery road',\n",
    "          24:'Road narrows on the right',\n",
    "          25:'Road work',\n",
    "          26:'Traffic signals',\n",
    "          27:'Pedestrians',\n",
    "          28:'Children crossing',\n",
    "          29:'Bicycles crossing',\n",
    "          30:'Beware of ice/snow',\n",
    "          31:'Wild animals crossing',\n",
    "          32:'End of all speed and passing limits',\n",
    "          33:'Turn right ahead',\n",
    "          34:'Turn left ahead',\n",
    "          35:'Ahead only',\n",
    "          36:'Go straight or right',\n",
    "          37:'Go straight or left',\n",
    "          38:'Keep right',\n",
    "          39:'Keep left',\n",
    "          40:'Roundabout mandatory',\n",
    "          41:'End of no passing',\n",
    "          42:'End of no passing by vehicles over 3.5 metric tons'}"
   ]
  },
  {
   "cell_type": "code",
   "execution_count": null,
   "id": "3Av45aW80a9m",
   "metadata": {
    "colab": {
     "base_uri": "https://localhost:8080/"
    },
    "id": "3Av45aW80a9m",
    "outputId": "eff96b89-acaf-4416-f297-c3c5ffaaa359"
   },
   "outputs": [],
   "source": [
    "pip install pyttsx3"
   ]
  },
  {
   "cell_type": "code",
   "execution_count": null,
   "id": "Npglg4vrBeZ_",
   "metadata": {
    "colab": {
     "base_uri": "https://localhost:8080/"
    },
    "id": "Npglg4vrBeZ_",
    "outputId": "0ef88e7d-c274-456f-8a36-0375d1dff9d2"
   },
   "outputs": [],
   "source": [
    "pip install subprocess"
   ]
  },
  {
   "cell_type": "code",
   "execution_count": null,
   "id": "40a03a25",
   "metadata": {
    "id": "40a03a25"
   },
   "outputs": [],
   "source": [
    "import gradio as gr\n",
    "from skimage import transform\n",
    "from tensorflow.python.keras.models import load_model\n",
    "# import libraries\n",
    "import pandas as pd\n",
    "import numpy as np\n",
    "import matplotlib.pyplot as plt\n",
    "import random\n",
    "\n",
    "# Tensorflow\n",
    "import tensorflow as tf\n",
    "from keras.utils import load_img, img_to_array, to_categorical\n",
    "from keras.layers import Conv2D, MaxPool2D, Flatten, Dense, Dropout\n",
    "from keras.optimizers import Adam\n",
    "from keras import Sequential\n",
    "\n",
    "\n",
    "from gtts import gTTS\n",
    "\n",
    "import IPython.display as ipd\n",
    "from IPython.display import Audio"
   ]
  },
  {
   "cell_type": "code",
   "execution_count": null,
   "id": "WAVZrWLkB-In",
   "metadata": {
    "colab": {
     "base_uri": "https://localhost:8080/"
    },
    "id": "WAVZrWLkB-In",
    "outputId": "80452d7e-679f-4dd0-dc59-1eed540354a7"
   },
   "outputs": [],
   "source": [
    "pip install gtts"
   ]
  },
  {
   "cell_type": "code",
   "execution_count": null,
   "id": "-Mj68ywPmGYw",
   "metadata": {
    "id": "-Mj68ywPmGYw"
   },
   "outputs": [],
   "source": [
    "def predict(inp):\n",
    "    traffic_model = load_model('traffic_model.h5')\n",
    "    traffic_model.compile(optimizer='adam', loss='categorical_crossentropy', metrics=['accuracy']) \n",
    "    test_image =inp.reshape(-1,32,32,3)\n",
    "    predicted_sign = traffic_model.predict(test_image)\n",
    "    print('predicted_sign', predicted_sign)\n",
    "    predicted_sign = predicted_sign.argmax(axis=-1)[0]\n",
    "    predicted_sign1 = labels[predicted_sign]\n",
    "    voice_output = gTTS(text=\"The predicted class is \" +predicted_sign1, lang='en', slow=False)\n",
    "    voice_output.save(\"output.mp3\")\n",
    "    display(Audio(\"output.mp3\", autoplay=True))\n",
    "    return predicted_sign1"
   ]
  },
  {
   "cell_type": "code",
   "execution_count": null,
   "id": "L5GOOBhln_KH",
   "metadata": {
    "colab": {
     "base_uri": "https://localhost:8080/"
    },
    "id": "L5GOOBhln_KH",
    "outputId": "2e71bd15-0110-4dcd-e2c5-31f18cf8fb90"
   },
   "outputs": [],
   "source": [
    "image = gr.inputs.Image(shape=(32,32))\n",
    "output_text = gr.outputs.Textbox(label=\"Label\")"
   ]
  },
  {
   "cell_type": "code",
   "execution_count": null,
   "id": "TC83S3RSl6Uh",
   "metadata": {
    "colab": {
     "base_uri": "https://localhost:8080/",
     "height": 1000
    },
    "id": "TC83S3RSl6Uh",
    "outputId": "278771f6-d038-4589-da37-5e440bbdeb97"
   },
   "outputs": [],
   "source": [
    "gr.Interface(fn=predict, \n",
    "             inputs=gr.Image(shape=(32,32)),\n",
    "             outputs=[output_text,Image_output],\n",
    "            capture_session=True,\n",
    "             interpretation='default'\n",
    "             ).launch(debug=True)"
   ]
  },
  {
   "cell_type": "code",
   "execution_count": null,
   "id": "92LvLotXpbuH",
   "metadata": {
    "id": "92LvLotXpbuH"
   },
   "outputs": [],
   "source": []
  },
  {
   "cell_type": "markdown",
   "id": "98e3b42f",
   "metadata": {
    "id": "98e3b42f",
    "papermill": {
     "duration": 0.31447,
     "end_time": "2023-03-14T15:33:48.169742",
     "exception": false,
     "start_time": "2023-03-14T15:33:47.855272",
     "status": "completed"
    },
    "tags": []
   },
   "source": [
    "### Evaluate the model\n"
   ]
  },
  {
   "cell_type": "code",
   "execution_count": null,
   "id": "7c10a14f",
   "metadata": {
    "execution": {
     "iopub.execute_input": "2023-03-14T15:33:48.800178Z",
     "iopub.status.busy": "2023-03-14T15:33:48.799722Z",
     "iopub.status.idle": "2023-03-14T15:33:59.848849Z",
     "shell.execute_reply": "2023-03-14T15:33:59.847722Z"
    },
    "id": "7c10a14f",
    "outputId": "a438bc76-a876-481b-f324-827a4188583b",
    "papermill": {
     "duration": 11.36867,
     "end_time": "2023-03-14T15:33:59.851241",
     "exception": false,
     "start_time": "2023-03-14T15:33:48.482571",
     "status": "completed"
    },
    "tags": []
   },
   "outputs": [],
   "source": [
    "model.evaluate(X_test, y_test)"
   ]
  },
  {
   "cell_type": "markdown",
   "id": "ceea9ebf",
   "metadata": {
    "id": "ceea9ebf",
    "papermill": {
     "duration": 0.328428,
     "end_time": "2023-03-14T15:34:00.512057",
     "exception": false,
     "start_time": "2023-03-14T15:34:00.183629",
     "status": "completed"
    },
    "tags": []
   },
   "source": [
    "**The model accuracy is 97%**"
   ]
  },
  {
   "cell_type": "markdown",
   "id": "1839821f",
   "metadata": {
    "id": "1839821f",
    "papermill": {
     "duration": 0.330743,
     "end_time": "2023-03-14T15:34:01.234566",
     "exception": false,
     "start_time": "2023-03-14T15:34:00.903823",
     "status": "completed"
    },
    "tags": []
   },
   "source": [
    "### Predict and plot the results"
   ]
  },
  {
   "cell_type": "code",
   "execution_count": null,
   "id": "8553a173",
   "metadata": {
    "execution": {
     "iopub.execute_input": "2023-03-14T15:34:01.896554Z",
     "iopub.status.busy": "2023-03-14T15:34:01.896124Z",
     "iopub.status.idle": "2023-03-14T15:34:12.725312Z",
     "shell.execute_reply": "2023-03-14T15:34:12.724441Z"
    },
    "id": "8553a173",
    "outputId": "e3873979-8f31-485e-e55b-ee81b7b5d7d8",
    "papermill": {
     "duration": 11.165753,
     "end_time": "2023-03-14T15:34:12.728405",
     "exception": false,
     "start_time": "2023-03-14T15:34:01.562652",
     "status": "completed"
    },
    "tags": []
   },
   "outputs": [],
   "source": [
    "# Get 9 random numbers\n",
    "rand_img = random.sample(range(len(X_test)), 9)\n",
    "\n",
    "# Get the predicted labels for the test data\n",
    "y_pred = model.predict(X_test)\n",
    "\n",
    "# Plot the images and the predicted labels\n",
    "fig, axs = plt.subplots(3, 3, figsize=(20, 12))\n",
    "axs = axs.ravel()\n",
    "for i in range(9):\n",
    "  axs[i].imshow(X_test[rand_img[i]], cmap=plt.cm.binary)\n",
    "  pred_label = np.argmax(y_pred[rand_img[i]])\n",
    "  true_label = np.argmax(y_test[rand_img[i]])\n",
    "\n",
    "  # Change the color of the titles depending on if the prediction is right or wrong\n",
    "if pred_label == true_label:\n",
    "     color = \"green\"\n",
    "else:\n",
    "     color = \"red\"\n",
    "\n",
    "  # Set the label text\n",
    "axs[i].set_title(\"Pred: {} {:2.0f}% \\n(True: {})\".format(labels[pred_label],\n",
    "                                                   100*tf.reduce_max(y_pred),\n",
    "                                                   labels[true_label]),\n",
    "             color=color) # set the color to green or red\n",
    "axs[i].axis('off')\n",
    "plt.show()"
   ]
  },
  {
   "cell_type": "code",
   "execution_count": null,
   "id": "a4914447",
   "metadata": {
    "id": "a4914447"
   },
   "outputs": [],
   "source": [
    "print()"
   ]
  },
  {
   "cell_type": "code",
   "execution_count": null,
   "id": "0358e3ad",
   "metadata": {
    "id": "0358e3ad"
   },
   "outputs": [],
   "source": []
  },
  {
   "cell_type": "code",
   "execution_count": null,
   "id": "3d1238f7",
   "metadata": {
    "id": "3d1238f7"
   },
   "outputs": [],
   "source": []
  },
  {
   "cell_type": "code",
   "execution_count": null,
   "id": "6ceb5fe6",
   "metadata": {
    "id": "6ceb5fe6"
   },
   "outputs": [],
   "source": []
  },
  {
   "cell_type": "code",
   "execution_count": null,
   "id": "WI476Gvb8aAZ",
   "metadata": {
    "id": "WI476Gvb8aAZ"
   },
   "outputs": [],
   "source": []
  }
 ],
 "metadata": {
  "colab": {
   "provenance": []
  },
  "kernelspec": {
   "display_name": "Python 3 (ipykernel)",
   "language": "python",
   "name": "python3"
  },
  "language_info": {
   "codemirror_mode": {
    "name": "ipython",
    "version": 3
   },
   "file_extension": ".py",
   "mimetype": "text/x-python",
   "name": "python",
   "nbconvert_exporter": "python",
   "pygments_lexer": "ipython3",
   "version": "3.10.9"
  },
  "papermill": {
   "default_parameters": {},
   "duration": 955.260763,
   "end_time": "2023-03-14T15:34:16.721313",
   "environment_variables": {},
   "exception": null,
   "input_path": "__notebook__.ipynb",
   "output_path": "__notebook__.ipynb",
   "parameters": {},
   "start_time": "2023-03-14T15:18:21.460550",
   "version": "2.4.0"
  }
 },
 "nbformat": 4,
 "nbformat_minor": 5
}
