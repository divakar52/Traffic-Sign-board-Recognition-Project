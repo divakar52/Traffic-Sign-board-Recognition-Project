{
 "cells": [
  {
   "cell_type": "code",
   "execution_count": 1,
   "id": "06f47472",
   "metadata": {},
   "outputs": [],
   "source": [
    "import gradio as gr\n",
    "from skimage import transform\n",
    "from tensorflow.python.keras.models import load_model\n",
    "# import libraries\n",
    "import pandas as pd\n",
    "import numpy as np\n",
    "import matplotlib.pyplot as plt\n",
    "import random\n",
    "\n",
    "# Tensorflow\n",
    "import tensorflow as tf\n",
    "from keras.utils import load_img, img_to_array, to_categorical\n",
    "from keras.layers import Conv2D, MaxPool2D, Flatten, Dense, Dropout\n",
    "from keras.optimizers import Adam\n",
    "from keras import Sequential\n",
    "\n",
    "\n",
    "from gtts import gTTS\n",
    "\n",
    "import IPython.display as ipd\n",
    "from IPython.display import Audio"
   ]
  },
  {
   "cell_type": "code",
   "execution_count": 2,
   "id": "f9d47d7b",
   "metadata": {},
   "outputs": [],
   "source": [
    "labels = {0:'Speed limit(20km/h)',\n",
    "          1:'Speed limit(30km/h)',\n",
    "          2:'Speed limit(50km/h)',\n",
    "          3:'Speed limit(60km/h)',\n",
    "          4:'Speed limit(70km/h)',\n",
    "          5:'Speed limit(80km/h)',\n",
    "          6:'End of speed limit(80km/h)',\n",
    "          7:'Speed limit(100km/h)',\n",
    "          8:'Speed limit(120km/h)',\n",
    "          9:'No passing',\n",
    "          10:'No passing for vehicles over 3.5 metric tons',\n",
    "          11:'Right-of-way at the next intersection',\n",
    "          12:'Priority road',\n",
    "          13:'Yield',\n",
    "          14:'Stop',\n",
    "          15:'No vehicles',\n",
    "          16:'Vehicles over 3.5 metric tons prohibted',\n",
    "          17:'No entry',\n",
    "          18:'General caution',\n",
    "          19:'Dangerous curve to the left',\n",
    "          20:'Dangerous curve to the right',\n",
    "          21:'Double curve',\n",
    "          22:'Bumpy road',\n",
    "          23:'Slippery road',\n",
    "          24:'Road narrows on the right',\n",
    "          25:'Road work',\n",
    "          26:'Traffic signals',\n",
    "          27:'Pedestrians',\n",
    "          28:'Children crossing',\n",
    "          29:'Bicycles crossing',\n",
    "          30:'Beware of ice/snow',\n",
    "          31:'Wild animals crossing',\n",
    "          32:'End of all speed and passing limits',\n",
    "          33:'Turn right ahead',\n",
    "          34:'Turn left ahead',\n",
    "          35:'Ahead only',\n",
    "          36:'Go straight or right',\n",
    "          37:'Go straight or left',\n",
    "          38:'Keep right',\n",
    "          39:'Keep left',\n",
    "          40:'Roundabout mandatory',\n",
    "          41:'End of no passing',\n",
    "          42:'End of no passing by vehicles over 3.5 metric tons'}"
   ]
  },
  {
   "cell_type": "code",
   "execution_count": 3,
   "id": "1b81e646",
   "metadata": {},
   "outputs": [],
   "source": [
    "def predict(inp):\n",
    "    traffic_model = load_model('traffic_model.h5')\n",
    "    traffic_model.compile(optimizer='adam', loss='categorical_crossentropy', metrics=['accuracy']) \n",
    "    test_image =inp.reshape(-1,32,32,3)\n",
    "    predicted_sign = traffic_model.predict(test_image)\n",
    "    print('predicted_sign', predicted_sign)\n",
    "    predicted_sign = predicted_sign.argmax(axis=-1)[0]\n",
    "    predicted_sign1 = labels[predicted_sign]\n",
    "    voice_output = gTTS(text=\"The predicted class is \" +predicted_sign1, lang='en', slow=False)\n",
    "    voice_output.save(\"output.mp3\")\n",
    "    display(Audio(\"output.mp3\", autoplay=True))\n",
    "    return predicted_sign1"
   ]
  },
  {
   "cell_type": "code",
   "execution_count": 4,
   "id": "353a0ba1",
   "metadata": {},
   "outputs": [
    {
     "name": "stderr",
     "output_type": "stream",
     "text": [
      "C:\\Users\\Megha\\anaconda3\\lib\\site-packages\\gradio\\inputs.py:257: UserWarning: Usage of gradio.inputs is deprecated, and will not be supported in the future, please import your component from gradio.components\n",
      "  warnings.warn(\n",
      "C:\\Users\\Megha\\anaconda3\\lib\\site-packages\\gradio\\deprecation.py:40: UserWarning: `optional` parameter is deprecated, and it has no effect\n",
      "  warnings.warn(value)\n",
      "C:\\Users\\Megha\\anaconda3\\lib\\site-packages\\gradio\\outputs.py:22: UserWarning: Usage of gradio.outputs is deprecated, and will not be supported in the future, please import your components from gradio.components\n",
      "  warnings.warn(\n"
     ]
    }
   ],
   "source": [
    "image = gr.inputs.Image(shape=(32,32))\n",
    "output_text = gr.outputs.Textbox(label=\"Label\")"
   ]
  },
  {
   "cell_type": "code",
   "execution_count": 25,
   "id": "db09f265",
   "metadata": {},
   "outputs": [
    {
     "ename": "AttributeError",
     "evalue": "module 'gradio' has no attribute 'InterfaceBlock'",
     "output_type": "error",
     "traceback": [
      "\u001b[1;31m---------------------------------------------------------------------------\u001b[0m",
      "\u001b[1;31mAttributeError\u001b[0m                            Traceback (most recent call last)",
      "Cell \u001b[1;32mIn[25], line 3\u001b[0m\n\u001b[0;32m      1\u001b[0m image_html \u001b[38;5;241m=\u001b[39m \u001b[38;5;124m'\u001b[39m\u001b[38;5;124m<img src=\u001b[39m\u001b[38;5;124m\"\u001b[39m\u001b[38;5;124mhttps://www.example.com/image.png\u001b[39m\u001b[38;5;124m\"\u001b[39m\u001b[38;5;124m width=\u001b[39m\u001b[38;5;124m\"\u001b[39m\u001b[38;5;124m200px\u001b[39m\u001b[38;5;124m\"\u001b[39m\u001b[38;5;124m/>\u001b[39m\u001b[38;5;124m'\u001b[39m\n\u001b[0;32m      2\u001b[0m iface \u001b[38;5;241m=\u001b[39m gr\u001b[38;5;241m.\u001b[39mInterface(fn\u001b[38;5;241m=\u001b[39mpredict, \n\u001b[1;32m----> 3\u001b[0m              inputs\u001b[38;5;241m=\u001b[39m[gr\u001b[38;5;241m.\u001b[39mImage(shape\u001b[38;5;241m=\u001b[39m(\u001b[38;5;241m32\u001b[39m,\u001b[38;5;241m32\u001b[39m)), \u001b[43mgr\u001b[49m\u001b[38;5;241;43m.\u001b[39;49m\u001b[43mInterfaceBlock\u001b[49m(\u001b[38;5;124m\"\u001b[39m\u001b[38;5;124mCustom Image\u001b[39m\u001b[38;5;124m\"\u001b[39m, image_html)],\n\u001b[0;32m      4\u001b[0m              outputs\u001b[38;5;241m=\u001b[39moutput_text,\n\u001b[0;32m      5\u001b[0m              interpretation\u001b[38;5;241m=\u001b[39m\u001b[38;5;124m'\u001b[39m\u001b[38;5;124mdefault\u001b[39m\u001b[38;5;124m'\u001b[39m,\n\u001b[0;32m      6\u001b[0m              title\u001b[38;5;241m=\u001b[39m\u001b[38;5;124m\"\u001b[39m\u001b[38;5;124mTraffic Sign board Recognition system \u001b[39m\u001b[38;5;124m\"\u001b[39m,\n\u001b[0;32m      7\u001b[0m description\u001b[38;5;241m=\u001b[39m\u001b[38;5;124m\"\u001b[39m\u001b[38;5;124mRecognize Classify the images of traffic sign board \u001b[39m\u001b[38;5;124m\"\u001b[39m)\n",
      "\u001b[1;31mAttributeError\u001b[0m: module 'gradio' has no attribute 'InterfaceBlock'"
     ]
    }
   ],
   "source": [
    "image_html = '<img src=\"https://www.example.com/image.png\" width=\"200px\"/>'\n",
    "iface = gr.Interface(fn=predict, \n",
    "             inputs=[gr.Image(shape=(32,32)), gr.inputs.html(image_html)],\n",
    "             outputs=output_text,\n",
    "             interpretation='default',\n",
    "             title=\"Traffic Sign board Recognition system \",\n",
    "description=\"Recognize Classify the images of traffic sign board \")"
   ]
  },
  {
   "cell_type": "markdown",
   "id": "33599097",
   "metadata": {},
   "source": [
    "# Training Loss over 10 epochs"
   ]
  },
  {
   "cell_type": "code",
   "execution_count": 22,
   "id": "beac6d28",
   "metadata": {},
   "outputs": [
    {
     "name": "stdout",
     "output_type": "stream",
     "text": [
      "Running on local URL:  http://127.0.0.1:7860\n",
      "\n",
      "To create a public link, set `share=True` in `launch()`.\n"
     ]
    },
    {
     "data": {
      "text/html": [
       "<div><iframe src=\"http://127.0.0.1:7860/\" width=\"100%\" height=\"500\" allow=\"autoplay; camera; microphone; clipboard-read; clipboard-write;\" frameborder=\"0\" allowfullscreen></iframe></div>"
      ],
      "text/plain": [
       "<IPython.core.display.HTML object>"
      ]
     },
     "metadata": {},
     "output_type": "display_data"
    },
    {
     "data": {
      "text/plain": []
     },
     "execution_count": 22,
     "metadata": {},
     "output_type": "execute_result"
    }
   ],
   "source": [
    "iface.launch() # Launch the interface"
   ]
  },
  {
   "cell_type": "code",
   "execution_count": null,
   "id": "a79d5d85",
   "metadata": {},
   "outputs": [],
   "source": []
  }
 ],
 "metadata": {
  "kernelspec": {
   "display_name": "TrafficSignalGradio",
   "language": "python",
   "name": "trafficsignalgradio"
  },
  "language_info": {
   "codemirror_mode": {
    "name": "ipython",
    "version": 3
   },
   "file_extension": ".py",
   "mimetype": "text/x-python",
   "name": "python",
   "nbconvert_exporter": "python",
   "pygments_lexer": "ipython3",
   "version": "3.10.9"
  }
 },
 "nbformat": 4,
 "nbformat_minor": 5
}
